{
 "cells": [
  {
   "cell_type": "code",
   "execution_count": 1,
   "id": "36cf9d2e-f68e-455e-bbb3-c6b6515a89a2",
   "metadata": {},
   "outputs": [],
   "source": [
    "import tkinter as tk\n",
    "from tkinter import Button, Canvas, PhotoImage, Label, Entry, OptionMenu\n",
    "import numpy as np\n",
    "import pandas as pd\n",
    "from matplotlib.figure import Figure\n",
    "from matplotlib.backends.backend_tkagg import FigureCanvasTkAgg\n",
    "import math"
   ]
  },
  {
   "cell_type": "code",
   "execution_count": 2,
   "id": "aceb0c99-d825-457c-aac5-6645117edeb5",
   "metadata": {},
   "outputs": [],
   "source": [
    "global start\n",
    "global end"
   ]
  },
  {
   "cell_type": "code",
   "execution_count": 3,
   "id": "3a7a4323-9012-487c-94fe-163d945ad35a",
   "metadata": {},
   "outputs": [],
   "source": [
    "def load_data(file_name, start_point=0, end_point=60):\n",
    "    global t, cement, furnace_slag, fly_ash, water, plasticizer, coarse_aggerate, fine_aggerate, age, output\n",
    "    \n",
    "    new_df = pd.read_csv(file_name)\n",
    "    new_np = new_df.to_numpy()\n",
    "    \n",
    "    t = np.arange(new_np[start_point:end_point, 0].size)\n",
    "    cement = new_np[start_point:end_point, 0].reshape(-1, 1)\n",
    "    furnace_slag = new_np[start_point:end_point, 1].reshape(-1, 1)\n",
    "    fly_ash = new_np[start_point:end_point, 2].reshape(-1, 1)\n",
    "    water = new_np[start_point:end_point, 3].reshape(-1, 1)\n",
    "    plasticizer = new_np[start_point:end_point, 4].reshape(-1, 1)\n",
    "    coarse_aggerate = new_np[start_point:end_point, 5].reshape(-1, 1)\n",
    "    fine_aggerate = new_np[start_point:end_point, 6].reshape(-1, 1)\n",
    "    age = new_np[start_point:end_point, 7].reshape(-1, 1)\n",
    "    output = new_np[start_point:end_point, 8].reshape(-1, 1)"
   ]
  },
  {
   "cell_type": "code",
   "execution_count": 4,
   "id": "0226889c-35b4-4e9f-88c9-6f1e9f3b492f",
   "metadata": {},
   "outputs": [],
   "source": [
    "def plot_regression(yhat, MSE, model_name):\n",
    "    fig = Figure(figsize=(5, 4), dpi=100)\n",
    "    plot = fig.add_subplot(1, 1, 1)\n",
    "    plot.scatter(t + start, output, color=\"black\", label=\"_nolegend_\")\n",
    "    plot.plot(t + start, output, color=\"black\")\n",
    "    plot.plot(t + start, yhat, \"--\", color=\"#FF004D\")\n",
    "    plot.legend([\"Strength\", f\"{model_name} Modelling Strength\"])\n",
    "    \n",
    "    canvas_widget = FigureCanvasTkAgg(fig, master=window)\n",
    "    canvas_widget.get_tk_widget().grid(column=1, row=0)\n",
    "    \n",
    "    linear_mse = Label(text=f\"{model_name} MSE = {float(MSE)}\\n\", background=\"white\", width=50, height=4)\n",
    "    linear_mse.grid(column=1, row=1)\n",
    "    \n",
    "    window.update_idletasks()"
   ]
  },
  {
   "cell_type": "code",
   "execution_count": 5,
   "id": "efae541b-9fe0-44f9-b694-1b1a2f583cfa",
   "metadata": {},
   "outputs": [],
   "source": [
    "def plot_every_model():\n",
    "    yhat1, MSE1 = Linear_modeling()\n",
    "    yhat2, MSE2 = Polynomial_modeling()\n",
    "    yhat3, MSE3 = Mixed_modelling()\n",
    "    \n",
    "    fig = Figure(figsize=(5, 4), dpi=100)\n",
    "    plot = fig.add_subplot(1, 1, 1)\n",
    "    plot.scatter(t + start, output, color=\"black\", label=\"_nolegend_\")\n",
    "    plot.plot(t + start, output, color=\"black\")\n",
    "    plot.plot(t + start, yhat1, \"--\", color=\"#FF004D\")\n",
    "    plot.plot(t + start, yhat2, \"--\", color=\"#570A57\")\n",
    "    plot.plot(t + start, yhat3, \"--\", color=\"#FC5404\")\n",
    "    plot.legend([\"Strength\", \"Linear Model\", \"Polynomial Model\", \"Mixed Model\"])\n",
    "    \n",
    "    lines_img.__del__()\n",
    "    \n",
    "    all_mse = tk.Label(text=f\"Linear MSE = {float(MSE1)}\\nPolynomial MSE = {float(MSE2)}\\nMixed MSE = {float(MSE3)}\", \n",
    "                       background=\"white\", width=50, height=4)\n",
    "    all_mse.grid(column=1, row=1)\n",
    "\n",
    "    canvas = FigureCanvasTkAgg(fig, master=window)\n",
    "    canvas_widget = canvas.get_tk_widget()\n",
    "    canvas_widget.grid(column=1, row=0)\n",
    "\n",
    "    window.update_idletasks()"
   ]
  },
  {
   "cell_type": "code",
   "execution_count": 6,
   "id": "6b4f788e-fbf6-4337-afb3-22c9e2e3b74b",
   "metadata": {},
   "outputs": [],
   "source": [
    "def Linear_modeling():\n",
    "    Fi1 = np.zeros((output.size, 10))\n",
    "    \n",
    "    for i in range(output.size):\n",
    "        Fi1[i, :] = [1, t[i], cement[i][0], furnace_slag[i][0], fly_ash[i][0], \n",
    "                     water[i][0], plasticizer[i][0],\n",
    "                     coarse_aggerate[i][0], fine_aggerate[i][0], age[i][0]]   \n",
    "    \n",
    "    A1 = Fi1.T @ Fi1\n",
    "    B1 = Fi1.T @ output\n",
    "    teta1 = np.linalg.pinv(A1) @ B1\n",
    "    yhat1 = Fi1 @ teta1\n",
    "    e1 = output - yhat1\n",
    "    MSE1 = e1.T @ e1 / (2 * output.size)\n",
    "    \n",
    "    return yhat1, MSE1"
   ]
  },
  {
   "cell_type": "code",
   "execution_count": 7,
   "id": "2a6dbda4-089b-4c55-8525-dfc59441f685",
   "metadata": {},
   "outputs": [],
   "source": [
    "def Polynomial_modeling():\n",
    "    Fi2 = np.zeros((output.size, 19))\n",
    "\n",
    "    for i in range(output.size):\n",
    "        Fi2[i, :] = [1, t[i], t[i]*t[i], \n",
    "                     cement[i][0], cement[i][0]*cement[i][0], furnace_slag[i][0],furnace_slag[i][0]*furnace_slag[i][0], \n",
    "                     fly_ash[i][0], fly_ash[i][0]*fly_ash[i][0], water[i][0],water[i][0]*water[i][0], \n",
    "                     plasticizer[i][0], plasticizer[i][0]*plasticizer[i][0], coarse_aggerate[i][0],coarse_aggerate[i][0]*coarse_aggerate[i][0], \n",
    "                     fine_aggerate[i][0], fine_aggerate[i][0]*fine_aggerate[i][0], age[i][0], age[i][0]*age[i][0]]\n",
    "\n",
    "    \n",
    "    A2 = Fi2.T @ Fi2\n",
    "    B2 = Fi2.T @ output\n",
    "    teta2 = np.linalg.pinv(A2) @ B2\n",
    "    yhat2 = Fi2 @ teta2\n",
    "    e2 = output - yhat2\n",
    "    MSE2 = e2.T @ e2 / (2 * output.size)\n",
    "    \n",
    "    return yhat2, MSE2"
   ]
  },
  {
   "cell_type": "code",
   "execution_count": 8,
   "id": "b1e32eaa-afda-4dda-91f3-3710a8e5591c",
   "metadata": {},
   "outputs": [],
   "source": [
    "def Mixed_modelling():\n",
    "    Fi3 = np.zeros((output.size, 37))\n",
    "    \n",
    "    for i in range(output.size):\n",
    "        Fi3[i, :] = [1, t[i], math.cos(t[i]), math.exp(-t[i]), math.sqrt(abs(t[i])), \n",
    "                      cement[i][0], math.cos(cement[i][0]), math.exp(-cement[i][0]), math.sqrt(abs(cement[i][0])),\n",
    "                      furnace_slag[i][0], math.cos(furnace_slag[i][0]), math.exp(-furnace_slag[i][0]), math.sqrt(abs(furnace_slag[i][0])),\n",
    "                      fly_ash[i][0], math.cos(fly_ash[i][0]), math.exp(-fly_ash[i][0]), math.sqrt(abs(fly_ash[i][0])),\n",
    "                      water[i][0], math.cos(water[i][0]), math.exp(-water[i][0]), math.sqrt(abs(water[i][0])),\n",
    "                      plasticizer[i][0], math.cos(plasticizer[i][0]), math.exp(-plasticizer[i][0]), math.sqrt(abs(plasticizer[i][0])),\n",
    "                      coarse_aggerate[i][0], math.cos(coarse_aggerate[i][0]), math.exp(-coarse_aggerate[i][0]), math.sqrt(abs(coarse_aggerate[i][0])),\n",
    "                      fine_aggerate[i][0], math.cos(fine_aggerate[i][0]), math.exp(-fine_aggerate[i][0]), math.sqrt(abs(fine_aggerate[i][0])),\n",
    "                      age[i][0], math.cos(age[i][0]), math.exp(-age[i][0]), math.sqrt(abs(age[i][0])),]\n",
    "    \n",
    "    A3 = Fi3.T @ Fi3\n",
    "    B3 = Fi3.T @ output\n",
    "    teta3 = np.linalg.pinv(A3) @ B3\n",
    "    yhat3 = Fi3 @ teta3\n",
    "    e3 = output - yhat3\n",
    "    MSE3 = e3.T @ e3 / (2 * output.size)\n",
    "    \n",
    "    return yhat3, MSE3"
   ]
  },
  {
   "cell_type": "code",
   "execution_count": 9,
   "id": "23cc75b5-3b69-46f9-98b3-731532f3d26b",
   "metadata": {},
   "outputs": [],
   "source": [
    "def load_button():\n",
    "    global start, end\n",
    "    \n",
    "    beginning = int(start_entry.get())\n",
    "    ending = int(end_entry.get())\n",
    "    \n",
    "    start = beginning\n",
    "    end = ending\n",
    "    \n",
    "    load_data(\"concrete_data.csv\", beginning, ending)"
   ]
  },
  {
   "cell_type": "code",
   "execution_count": 10,
   "id": "75796b12-5a08-4d19-be62-bc59355c9422",
   "metadata": {},
   "outputs": [],
   "source": [
    "start = 0\n",
    "end = 30\n",
    "\n",
    "load_data(\"concrete_data.csv\", start, end)"
   ]
  },
  {
   "cell_type": "code",
   "execution_count": 11,
   "id": "2fe02a21-3b38-408c-925c-2e75d517f05a",
   "metadata": {},
   "outputs": [
    {
     "name": "stderr",
     "output_type": "stream",
     "text": [
      "C:\\Users\\goktu\\AppData\\Local\\Temp\\ipykernel_10036\\2233360907.py:12: DeprecationWarning: Conversion of an array with ndim > 0 to a scalar is deprecated, and will error in future. Ensure you extract a single element from your array before performing this operation. (Deprecated NumPy 1.25.)\n",
      "  linear_mse = Label(text=f\"{model_name} MSE = {float(MSE)}\\n\", background=\"white\", width=50, height=4)\n",
      "C:\\Users\\goktu\\AppData\\Local\\Temp\\ipykernel_10036\\3830337708.py:17: DeprecationWarning: Conversion of an array with ndim > 0 to a scalar is deprecated, and will error in future. Ensure you extract a single element from your array before performing this operation. (Deprecated NumPy 1.25.)\n",
      "  all_mse = tk.Label(text=f\"Linear MSE = {float(MSE1)}\\nPolynomial MSE = {float(MSE2)}\\nMixed MSE = {float(MSE3)}\",\n"
     ]
    }
   ],
   "source": [
    "window = tk.Tk()\n",
    "window.config(padx=30, pady=60, bg=\"white\")\n",
    "window.title(\"Linear Regression\")\n",
    "\n",
    "canvas = Canvas(window, width=300, height=300, bg=\"white\", highlightthickness=0)\n",
    "lines_img = PhotoImage(file=\"lines.png\")\n",
    "canvas.create_image(150, 150, image=lines_img)\n",
    "canvas.grid(column=1, row=0)\n",
    "\n",
    "set_data = Button(window, text=\"Set Data\", command=load_button, width=8)\n",
    "set_data.grid(column=1, row=3, sticky=\"e\")\n",
    "\n",
    "start_label = Label(window, text=\"Start Point\", background=\"white\")\n",
    "start_label.grid(column=1, row=2, sticky=\"w\")\n",
    "\n",
    "start_entry = Entry(window, width=10)\n",
    "start_entry.focus()\n",
    "start_entry.insert(0, \"0\")\n",
    "start_entry.grid(column=1, row=3, sticky=\"w\")\n",
    "\n",
    "end_label = Label(window, text=\"End Point\", background=\"white\")\n",
    "end_label.grid(column=1, row=2)\n",
    "\n",
    "end_entry = Entry(window, width=10)\n",
    "end_entry.insert(0, \"30\")\n",
    "end_entry.grid(column=1, row=3)\n",
    "\n",
    "Linear_button = Button(window, text=\"Linear \\nModelling\\nRegression\", command=lambda: plot_regression(*Linear_modeling(), model_name=\"Linear\"))\n",
    "Linear_button.grid(column=1, row=5, sticky=\"w\", pady=30)\n",
    "\n",
    "Polynomial_button = Button(window, text=\"Polynomial \\nModelling\\nRegression\", command=lambda: plot_regression(*Polynomial_modeling(), model_name=\"Polynomial\"))\n",
    "Polynomial_button.grid(column=1, row=5, pady=30)\n",
    "\n",
    "Mixed_button = Button(window, text=\"Mixed \\nModelling\\nRegression\", command=lambda: plot_regression(*Mixed_modelling(), model_name=\"Mixed\"))\n",
    "Mixed_button.grid(column=1, row=5, sticky=\"e\", pady=30)\n",
    "\n",
    "plot_every_button = Button(window, text=\"Plot Every Model Together\", command=plot_every_model)\n",
    "plot_every_button.grid(column=1, row=6)\n",
    "\n",
    "window.mainloop()"
   ]
  },
  {
   "cell_type": "code",
   "execution_count": null,
   "id": "b6962342-c796-47f1-93f7-9f06c821beb0",
   "metadata": {},
   "outputs": [],
   "source": []
  }
 ],
 "metadata": {
  "kernelspec": {
   "display_name": "Python 3 (ipykernel)",
   "language": "python",
   "name": "python3"
  },
  "language_info": {
   "codemirror_mode": {
    "name": "ipython",
    "version": 3
   },
   "file_extension": ".py",
   "mimetype": "text/x-python",
   "name": "python",
   "nbconvert_exporter": "python",
   "pygments_lexer": "ipython3",
   "version": "3.11.5"
  }
 },
 "nbformat": 4,
 "nbformat_minor": 5
}
